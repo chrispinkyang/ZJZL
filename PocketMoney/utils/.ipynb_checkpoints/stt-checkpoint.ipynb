{
 "cells": [
  {
   "cell_type": "code",
   "execution_count": 3,
   "metadata": {
    "collapsed": true
   },
   "outputs": [],
   "source": [
    "import requests\n",
    "import time\n",
    "import hashlib\n",
    "import base64\n",
    "# from bitarray import bitarray\n",
    "import json\n",
    "\n",
    "URL = \"http://openapi.xfyun.cn/v2/aiui\"\n",
    "APPID = \"5bb074b2\"\n",
    "API_KEY = \"54242cb7e9e14a558b7d2de947fe8a91\"\n",
    "AUE = \"speex-wb\"\n",
    "AUTH_ID = \"2894c985bf8b1111c6728db79d3479ae\"\n",
    "DATA_TYPE = \"audio\"\n",
    "SAMPLE_RATE = \"16000\"\n",
    "SCENE = \"main\"\n",
    "RESULT_LEVEL = \"plain\" # complete\n",
    "LAT = \"23.16\"\n",
    "LNG = \"113.23\"\n",
    "#个性化参数，需转义\n",
    "PERS_PARAM = \"{\\\\\\\"auth_id\\\\\\\":\\\\\\\"2894c985bf8b1111c6728db79d3479ae\\\\\\\"}\"\n",
    "# FILE_PATH = \"16kVoice.pcm\"\n",
    "\n",
    "\n",
    "def buildHeader():\n",
    "    curTime = str(int(time.time()))\n",
    "    # param = \"{\\\"result_level\\\":\\\"\"+RESULT_LEVEL+\"\\\",\\\"auth_id\\\":\\\"\"+AUTH_ID+\"\\\",\\\"data_type\\\":\\\"\"+DATA_TYPE+\"\\\",\\\"sample_rate\\\":\\\"\"+SAMPLE_RATE+\"\\\",\\\"scene\\\":\\\"\"+SCENE+\"\\\",\\\"lat\\\":\\\"\"+LAT+\"\\\",\\\"lng\\\":\\\"\"+LNG+\"\\\"}\"\n",
    "    #使用个性化参数时参数格式如下：\n",
    "    param = \"{\\\"result_level\\\":\\\"\"+RESULT_LEVEL+\"\\\",\\\"auth_id\\\":\\\"\"+AUTH_ID+\"\\\",\\\"data_type\\\":\\\"\"+DATA_TYPE+\"\\\",\\\"sample_rate\\\":\\\"\"+SAMPLE_RATE+\"\\\",\\\"scene\\\":\\\"\"+SCENE+\"\\\",\\\"lat\\\":\\\"\"+LAT+\"\\\",\\\"lng\\\":\\\"\"+LNG+\"\\\",\\\"pers_param\\\":\\\"\"+PERS_PARAM+\"\\\"}\"\n",
    "    # error: a bytes-like object is required, not 'str'\n",
    "    paramBase64 = base64.b64encode(param.encode('utf-8'))\n",
    "\n",
    "    m2 = hashlib.md5()\n",
    "    # print('type of paramBase64:', type(paramBase64))\n",
    "    # print(\"(str(paramBase64, 'utf-8')\", str(paramBase64, 'utf-8'))\n",
    "    m2.update((API_KEY + curTime + str(paramBase64, 'utf-8')).encode('utf-8'))\n",
    "    checkSum = m2.hexdigest()\n",
    "\n",
    "    # 在 Http Request Header 中配置以下参数用于授权认证\n",
    "    header = {\n",
    "        'X-CurTime': curTime,\n",
    "        'X-Param': paramBase64,\n",
    "        'X-Appid': APPID,\n",
    "        'X-CheckSum': checkSum,\n",
    "    }\n",
    "    return header\n",
    "\n",
    "\n",
    "def readFile(filePath):\n",
    "    binfile = open(filePath, 'rb')\n",
    "    data = binfile.read()\n",
    "    # print('data in file:', data)\n",
    "    return data\n",
    "\n",
    "\n",
    "def request2Aiui(FILE_PATH):\n",
    "    # if you need to post data in file\n",
    "    r = requests.post(URL, headers=buildHeader(), data=readFile(FILE_PATH))\n",
    "    content = r.content\n",
    "    json_resp = json.loads(content.decode('utf-8'))\n",
    "    code = json_resp['code']\n",
    "    if code == '0':\n",
    "        print('success in response')\n",
    "        # return the response['data']\n",
    "        print(\"json_resp:\", json_resp)\n",
    "        return json_resp['data'][0]\n",
    "    else:\n",
    "        # error response\n",
    "        '''\n",
    "        {\n",
    "        \"code\":\"10105\",\n",
    "        \"desc\":\"illegal access|illegal client_ip\",\n",
    "        \"data\":[],\n",
    "        \"sid\":\"xxxxxx\"\n",
    "        }\n",
    "        '''\n",
    "        #print(json_resp)\n",
    "        #print(content)\n",
    "        raise Exception(json_resp)"
   ]
  },
  {
   "cell_type": "code",
   "execution_count": 4,
   "metadata": {},
   "outputs": [
    {
     "name": "stdout",
     "output_type": "stream",
     "text": [
      "success in response\n",
      "json_resp: {'code': '0', 'data': [{'sub': 'iat', 'auth_id': '2894c985bf8b1111c6728db79d3479ae', 'text': '', 'result_id': 0}], 'desc': 'success', 'sid': 'ara014fe24d@dx1fda0f2205e04a8000'}\n",
      "{'sub': 'iat', 'auth_id': '2894c985bf8b1111c6728db79d3479ae', 'text': '', 'result_id': 0}\n"
     ]
    }
   ],
   "source": [
    "try:\n",
    "    FILE_PATH = \"16k.spx\"\n",
    "    resp = request2Aiui(FILE_PATH)\n",
    "    print(resp)\n",
    "except Exception as e:\n",
    "    print(e.args)"
   ]
  },
  {
   "cell_type": "code",
   "execution_count": 12,
   "metadata": {},
   "outputs": [
    {
     "data": {
      "text/plain": [
       "'科大讯飞是中国最大的智能语音技术提供商'"
      ]
     },
     "execution_count": 12,
     "metadata": {},
     "output_type": "execute_result"
    }
   ],
   "source": [
    "resp['text']"
   ]
  },
  {
   "cell_type": "code",
   "execution_count": null,
   "metadata": {
    "collapsed": true
   },
   "outputs": [],
   "source": []
  }
 ],
 "metadata": {
  "kernelspec": {
   "display_name": "Python 3",
   "language": "python",
   "name": "python3"
  },
  "language_info": {
   "codemirror_mode": {
    "name": "ipython",
    "version": 3
   },
   "file_extension": ".py",
   "mimetype": "text/x-python",
   "name": "python",
   "nbconvert_exporter": "python",
   "pygments_lexer": "ipython3",
   "version": "3.6.2"
  }
 },
 "nbformat": 4,
 "nbformat_minor": 2
}
