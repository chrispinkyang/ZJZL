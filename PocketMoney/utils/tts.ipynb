{
 "cells": [
  {
   "cell_type": "code",
   "execution_count": 33,
   "metadata": {},
   "outputs": [
    {
     "name": "stdout",
     "output_type": "stream",
     "text": [
      "success, sid = hts00299179@ch159c0f1651e6477400\n"
     ]
    }
   ],
   "source": [
    "import requests\n",
    "import re\n",
    "import time\n",
    "import hashlib\n",
    "import base64\n",
    "import struct\n",
    "import urllib\n",
    "\n",
    "URL = \"http://api.xfyun.cn/v1/service/v1/tts\"\n",
    "AUE = \"raw\"\n",
    "APPID = \"5bbaf954\"\n",
    "API_KEY = \"3d8df44310f4aa218d490dba793c1883\"\n",
    "\n",
    "def getHeader():\n",
    "    curTime = str(int(time.time()))\n",
    "    param = \"{\\\"aue\\\":\\\"\"+AUE+\"\\\",\\\"auf\\\":\\\"audio/L16;rate=16000\\\",\\\"voice_name\\\":\\\"xiaoyan\\\",\\\"engine_type\\\":\\\"intp65\\\"}\"\n",
    "    paramBase64 = base64.b64encode(param.encode('utf-8'))\n",
    "    m2 = hashlib.md5()\n",
    "    m2.update((API_KEY + curTime + str(paramBase64, 'utf-8')).encode('utf-8'))\n",
    "    checkSum = m2.hexdigest()\n",
    "    header ={\n",
    "        'X-CurTime':curTime,\n",
    "        'X-Param':paramBase64,\n",
    "        'X-Appid':APPID,\n",
    "        'X-CheckSum':checkSum,\n",
    "        'X-Real-Ip':'127.0.0.1',\n",
    "        'Content-Type':'application/x-www-form-urlencoded; charset=utf-8',\n",
    "    }\n",
    "    return header\n",
    "\n",
    "def getBody(text):\n",
    "    data = {'text':text.encode('utf-8')}\n",
    "    urllib.parse.urlencode(data)\n",
    "    return data\n",
    "\n",
    "def writeFile(file, content):\n",
    "    with open(file, 'wb') as f:\n",
    "        f.write(content)\n",
    "    f.close()\n",
    "\n",
    "r = requests.post(URL,headers=getHeader(),data=getBody(\"科大讯飞是中国最大的智能语音技术提供商\"))\n",
    "contentType = r.headers['Content-Type']\n",
    "if contentType == \"audio/mpeg\":\n",
    "    sid = r.headers['sid']\n",
    "    if AUE == \"raw\":\n",
    "        writeFile(\"audio/\"+sid+\".wav\", r.content)\n",
    "    else :\n",
    "        writeFile(\"audio/\"+sid+\".mp3\", r.content)\n",
    "    print(\"success, sid = \" + sid)\n",
    "else :\n",
    "    print(r.text)"
   ]
  },
  {
   "cell_type": "code",
   "execution_count": 7,
   "metadata": {
    "collapsed": true
   },
   "outputs": [],
   "source": [
    "t = \"科大讯飞是中国最大的智能语音技术提供商\""
   ]
  },
  {
   "cell_type": "code",
   "execution_count": 8,
   "metadata": {},
   "outputs": [
    {
     "data": {
      "text/plain": [
       "b'\\xe7\\xa7\\x91\\xe5\\xa4\\xa7\\xe8\\xae\\xaf\\xe9\\xa3\\x9e\\xe6\\x98\\xaf\\xe4\\xb8\\xad\\xe5\\x9b\\xbd\\xe6\\x9c\\x80\\xe5\\xa4\\xa7\\xe7\\x9a\\x84\\xe6\\x99\\xba\\xe8\\x83\\xbd\\xe8\\xaf\\xad\\xe9\\x9f\\xb3\\xe6\\x8a\\x80\\xe6\\x9c\\xaf\\xe6\\x8f\\x90\\xe4\\xbe\\x9b\\xe5\\x95\\x86'"
      ]
     },
     "execution_count": 8,
     "metadata": {},
     "output_type": "execute_result"
    }
   ],
   "source": [
    "t.encode(\"utf-8\")"
   ]
  },
  {
   "cell_type": "code",
   "execution_count": 11,
   "metadata": {
    "collapsed": true
   },
   "outputs": [],
   "source": [
    "import urllib"
   ]
  },
  {
   "cell_type": "code",
   "execution_count": 15,
   "metadata": {},
   "outputs": [
    {
     "data": {
      "text/plain": [
       "'data=%E7%A7%91%E5%A4%A7%E8%AE%AF%E9%A3%9E%E6%98%AF%E4%B8%AD%E5%9B%BD%E6%9C%80%E5%A4%A7%E7%9A%84%E6%99%BA%E8%83%BD%E8%AF%AD%E9%9F%B3%E6%8A%80%E6%9C%AF%E6%8F%90%E4%BE%9B%E5%95%86'"
      ]
     },
     "execution_count": 15,
     "metadata": {},
     "output_type": "execute_result"
    }
   ],
   "source": [
    "urllib.parse.urlencode({\"data\":t})"
   ]
  },
  {
   "cell_type": "code",
   "execution_count": 34,
   "metadata": {},
   "outputs": [
    {
     "name": "stdout",
     "output_type": "stream",
     "text": [
      "0.8947368421052632\n"
     ]
    }
   ],
   "source": [
    "ot = \"科大讯飞是中国最大的智能语音技术提供商\"\n",
    "t = \"科大讯飞是中国最大的智能语音提供商\"\n",
    "count = 0\n",
    "for c in t:\n",
    "    if c in ot:\n",
    "        count += 1\n",
    "print(count/len(ot))"
   ]
  },
  {
   "cell_type": "code",
   "execution_count": null,
   "metadata": {
    "collapsed": true
   },
   "outputs": [],
   "source": []
  }
 ],
 "metadata": {
  "kernelspec": {
   "display_name": "Python 3",
   "language": "python",
   "name": "python3"
  },
  "language_info": {
   "codemirror_mode": {
    "name": "ipython",
    "version": 3
   },
   "file_extension": ".py",
   "mimetype": "text/x-python",
   "name": "python",
   "nbconvert_exporter": "python",
   "pygments_lexer": "ipython3",
   "version": "3.6.2"
  }
 },
 "nbformat": 4,
 "nbformat_minor": 2
}
