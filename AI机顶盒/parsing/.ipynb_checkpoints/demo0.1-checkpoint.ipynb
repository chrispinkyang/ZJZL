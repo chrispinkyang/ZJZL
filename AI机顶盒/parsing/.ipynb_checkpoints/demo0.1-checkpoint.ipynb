{
 "cells": [
  {
   "cell_type": "code",
   "execution_count": 1,
   "metadata": {
    "collapsed": true
   },
   "outputs": [],
   "source": [
    "class Abtractplugin(object):\n",
    "    \n",
    "    _trigger_words = []\n",
    "    \n",
    "    def is_valid(self,text):\n",
    "        return any(word in text for word in _trigger_words)\n",
    "    \n",
    "    def handle(self,text):\n",
    "        print(\"Handle method must be implemented\")"
   ]
  },
  {
   "cell_type": "code",
   "execution_count": 6,
   "metadata": {},
   "outputs": [],
   "source": [
    "def get_verb(text):\n",
    "    from jieba import posseg\n",
    "    res = []\n",
    "    for w in posseg.cut(text):\n",
    "        if w.flag == 'v':\n",
    "            res.append(w.word)\n",
    "    return res"
   ]
  },
  {
   "cell_type": "code",
   "execution_count": 7,
   "metadata": {
    "collapsed": true
   },
   "outputs": [],
   "source": [
    "text = '请打开空调'"
   ]
  },
  {
   "cell_type": "code",
   "execution_count": 8,
   "metadata": {},
   "outputs": [
    {
     "data": {
      "text/plain": [
       "['请', '打开']"
      ]
     },
     "execution_count": 8,
     "metadata": {},
     "output_type": "execute_result"
    }
   ],
   "source": [
    "get_verb(text)"
   ]
  },
  {
   "cell_type": "code",
   "execution_count": 11,
   "metadata": {},
   "outputs": [],
   "source": [
    "_trigger_words = [u'空调']    \n",
    "def handle(self, text):\n",
    "    open_word = [u'打开',u'开']\n",
    "    verbs = get_verb(text)\n",
    "    if any(verb in open_word for verb in verbs):\n",
    "        res['attr'] = u'开关'\n",
    "        res['attrValue'] = u'开'\n",
    "        return dict({'slot':res})"
   ]
  },
  {
   "cell_type": "code",
   "execution_count": 12,
   "metadata": {},
   "outputs": [
    {
     "ename": "TypeError",
     "evalue": "handle() missing 1 required positional argument: 'text'",
     "output_type": "error",
     "traceback": [
      "\u001b[1;31m---------------------------------------------------------------------------\u001b[0m",
      "\u001b[1;31mTypeError\u001b[0m                                 Traceback (most recent call last)",
      "\u001b[1;32m<ipython-input-12-5e7f608dcb08>\u001b[0m in \u001b[0;36m<module>\u001b[1;34m()\u001b[0m\n\u001b[1;32m----> 1\u001b[1;33m \u001b[0mDemoPlugin\u001b[0m\u001b[1;33m.\u001b[0m\u001b[0mhandle\u001b[0m\u001b[1;33m(\u001b[0m\u001b[1;34mu'请打开空调'\u001b[0m\u001b[1;33m)\u001b[0m\u001b[1;33m\u001b[0m\u001b[0m\n\u001b[0m",
      "\u001b[1;31mTypeError\u001b[0m: handle() missing 1 required positional argument: 'text'"
     ]
    }
   ],
   "source": [
    "DemoPlugin.handle(u'请打开空调')"
   ]
  },
  {
   "cell_type": "code",
   "execution_count": null,
   "metadata": {
    "collapsed": true
   },
   "outputs": [],
   "source": [
    "from __future__ import absolute_import\n",
    "import logging\n",
    "from . import plugin_loader"
   ]
  },
  {
   "cell_type": "code",
   "execution_count": null,
   "metadata": {
    "collapsed": true
   },
   "outputs": [],
   "source": [
    "# plugin_loader\n",
    "def init_plugins():\n",
    "    \"\"\"\n",
    "    Dynamically loads all the plugins in the plugins folder and sorts\n",
    "    them by the PRIORITY key. If no PRIORITY is defined for a given\n",
    "    plugin, a priority of 0 is assumed.\n",
    "    \"\"\"\n",
    "\n",
    "    global _has_init\n",
    "    locations = [\n",
    "        dingdangpath.PLUGIN_PATH,\n",
    "    ]\n",
    "    _logger.debug(\"Looking for plugins in: %s\",\n",
    "                  ', '.join([\"'%s'\" % location for location in locations]))\n",
    "\n",
    "    global _plugins_query\n",
    "    nameSet = set()\n",
    "\n",
    "    # plugins that are not allow to be call via Wechat or Email\n",
    "    for finder, name, ispkg in pkgutil.walk_packages(locations):\n",
    "        try:\n",
    "            loader = finder.find_module(name)\n",
    "            mod = loader.load_module(name)\n",
    "        except Exception:\n",
    "            _logger.warning(\"Skipped plugin '%s' due to an error.\", name,\n",
    "                            exc_info=True)\n",
    "            continue\n",
    "\n",
    "        # check slug\n",
    "        if not hasattr(mod, 'SLUG'):\n",
    "            mod.SLUG = name\n",
    "\n",
    "        # check conflict\n",
    "        if mod.SLUG in nameSet:\n",
    "            _logger.warning(\"plugin '%s' SLUG(%s) has repetition\", name,\n",
    "                            mod.SLUG)\n",
    "            continue\n",
    "        nameSet.add(mod.SLUG)\n",
    "\n",
    "        # whether a plugin is enabled\n",
    "        if config.has(mod.SLUG) and 'enable' in config.get(mod.SLUG):\n",
    "            if not config.get(mod.SLUG)['enable']:\n",
    "                _logger.info(\"plugin '%s' is disabled\", name)\n",
    "                continue\n",
    "\n",
    "        # plugins run at query\n",
    "        if hasattr(mod, 'WORDS'):\n",
    "            if not hasattr(mod, 'handle') or not hasattr(mod, 'isValid'):\n",
    "                _logger.debug(\"Query plugin '%s' missing handle or isValid\",\n",
    "                              name)\n",
    "            else:\n",
    "                _logger.debug(\"Found query plugin '%s' with words: %r\",\n",
    "                              name, mod.WORDS)\n",
    "                _plugins_query.append(mod)\n",
    "\n",
    "        # plugins run before listen\n",
    "        if hasattr(mod, 'beforeListen'):\n",
    "            _logger.debug(\"Found before-listen plugin '%s'\", name)\n",
    "            _plugins_before_listen.append(mod)\n",
    "\n",
    "        # plugins run after listen\n",
    "        if hasattr(mod, 'afterListen'):\n",
    "            _logger.debug(\"Found after-listen plugin '%s'\", name)\n",
    "            _plugins_after_listen.append(mod)\n",
    "\n",
    "    def sort_priority(m):\n",
    "        if hasattr(m, 'PRIORITY'):\n",
    "            return m.PRIORITY\n",
    "        return 0\n",
    "    _plugins_query.sort(key=sort_priority, reverse=True)\n",
    "    _plugins_before_listen.sort(key=sort_priority, reverse=True)\n",
    "    _plugins_after_listen.sort(key=sort_priority, reverse=True)\n",
    "    _has_init = True"
   ]
  },
  {
   "cell_type": "code",
   "execution_count": 13,
   "metadata": {
    "collapsed": true
   },
   "outputs": [],
   "source": [
    "# brain.py\n",
    "class Brain(object):\n",
    "    def __init__(self):\n",
    "        self.plugins = plugin_loader.get_plugins()\n",
    "        # self._logger = logging.getLogger(__name__)\n",
    "        self.handling = False\n",
    "    \n",
    "    def query(self, text):\n",
    "        for plugin in self.plugins:\n",
    "            for text in texts:\n",
    "                if not plugin.isValid(text):\n",
    "                    continue\n",
    "                self._logger.debug(\"'%s' is a valid phrase for plugin \" +\"'%s'\", text, plugin.__name__)\n",
    "                continueHandle = False\n",
    "                try:\n",
    "                    self.handling = True\n",
    "                    result = plugin.handle(text, self.mic,config.get(), wxbot)\n",
    "                    self.handling = False\n",
    "                except Exception:\n",
    "                    self._logger.error('Failed to execute plugin',exc_info=True)\n",
    "                else:\n",
    "                    self._logger.debug(\"Handling of phrase '%s' by \" + \"plugin '%s' completed\", text,plugin.__name__)\n",
    "                finally:\n",
    "                    return result\n",
    "        self._logger.debug(\"No plugin was able to handle any of these \" +\"phrases: %r\", texts)"
   ]
  },
  {
   "cell_type": "code",
   "execution_count": 14,
   "metadata": {},
   "outputs": [
    {
     "ename": "NameError",
     "evalue": "name 'plugin_loader' is not defined",
     "output_type": "error",
     "traceback": [
      "\u001b[1;31m---------------------------------------------------------------------------\u001b[0m",
      "\u001b[1;31mNameError\u001b[0m                                 Traceback (most recent call last)",
      "\u001b[1;32m<ipython-input-14-a2422a044789>\u001b[0m in \u001b[0;36m<module>\u001b[1;34m()\u001b[0m\n\u001b[1;32m----> 1\u001b[1;33m \u001b[0mb\u001b[0m \u001b[1;33m=\u001b[0m \u001b[0mBrain\u001b[0m\u001b[1;33m(\u001b[0m\u001b[1;33m)\u001b[0m\u001b[1;33m\u001b[0m\u001b[0m\n\u001b[0m",
      "\u001b[1;32m<ipython-input-13-f2c87db3ec6e>\u001b[0m in \u001b[0;36m__init__\u001b[1;34m(self)\u001b[0m\n\u001b[0;32m      2\u001b[0m \u001b[1;32mclass\u001b[0m \u001b[0mBrain\u001b[0m\u001b[1;33m(\u001b[0m\u001b[0mobject\u001b[0m\u001b[1;33m)\u001b[0m\u001b[1;33m:\u001b[0m\u001b[1;33m\u001b[0m\u001b[0m\n\u001b[0;32m      3\u001b[0m     \u001b[1;32mdef\u001b[0m \u001b[0m__init__\u001b[0m\u001b[1;33m(\u001b[0m\u001b[0mself\u001b[0m\u001b[1;33m)\u001b[0m\u001b[1;33m:\u001b[0m\u001b[1;33m\u001b[0m\u001b[0m\n\u001b[1;32m----> 4\u001b[1;33m         \u001b[0mself\u001b[0m\u001b[1;33m.\u001b[0m\u001b[0mplugins\u001b[0m \u001b[1;33m=\u001b[0m \u001b[0mplugin_loader\u001b[0m\u001b[1;33m.\u001b[0m\u001b[0mget_plugins\u001b[0m\u001b[1;33m(\u001b[0m\u001b[1;33m)\u001b[0m\u001b[1;33m\u001b[0m\u001b[0m\n\u001b[0m\u001b[0;32m      5\u001b[0m         \u001b[1;31m# self._logger = logging.getLogger(__name__)\u001b[0m\u001b[1;33m\u001b[0m\u001b[1;33m\u001b[0m\u001b[0m\n\u001b[0;32m      6\u001b[0m         \u001b[0mself\u001b[0m\u001b[1;33m.\u001b[0m\u001b[0mhandling\u001b[0m \u001b[1;33m=\u001b[0m \u001b[1;32mFalse\u001b[0m\u001b[1;33m\u001b[0m\u001b[0m\n",
      "\u001b[1;31mNameError\u001b[0m: name 'plugin_loader' is not defined"
     ]
    }
   ],
   "source": [
    "b = Brain()"
   ]
  },
  {
   "cell_type": "code",
   "execution_count": null,
   "metadata": {
    "collapsed": true
   },
   "outputs": [],
   "source": []
  }
 ],
 "metadata": {
  "kernelspec": {
   "display_name": "Python 3",
   "language": "python",
   "name": "python3"
  },
  "language_info": {
   "codemirror_mode": {
    "name": "ipython",
    "version": 3
   },
   "file_extension": ".py",
   "mimetype": "text/x-python",
   "name": "python",
   "nbconvert_exporter": "python",
   "pygments_lexer": "ipython3",
   "version": "3.6.2"
  }
 },
 "nbformat": 4,
 "nbformat_minor": 2
}
