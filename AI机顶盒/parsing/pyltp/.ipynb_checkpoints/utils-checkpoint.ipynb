{
 "cells": [
  {
   "cell_type": "code",
   "execution_count": 4,
   "metadata": {},
   "outputs": [
    {
     "name": "stdout",
     "output_type": "stream",
     "text": [
      "[('a', 1, '甲'), ('b', 2, '乙'), ('b', 3, '丙')]\n"
     ]
    }
   ],
   "source": [
    "l1 = ['a','b','b']\n",
    "l2 = [1,2,3]\n",
    "l3 = ['甲','乙','丙']\n",
    "print(list(zip(l1,l2,l3)))"
   ]
  },
  {
   "cell_type": "code",
   "execution_count": 8,
   "metadata": {
    "collapsed": true
   },
   "outputs": [],
   "source": [
    "-"
   ]
  },
  {
   "cell_type": "code",
   "execution_count": 9,
   "metadata": {
    "collapsed": true
   },
   "outputs": [],
   "source": [
    "test = \"请播放一首菊花台\"\n",
    "p = ParsingText(test)"
   ]
  },
  {
   "cell_type": "code",
   "execution_count": 10,
   "metadata": {},
   "outputs": [
    {
     "name": "stdout",
     "output_type": "stream",
     "text": [
      "分词:\n",
      "请\t播放\t一\t首\t菊花台\n"
     ]
    },
    {
     "data": {
      "text/plain": [
       "['请', '播放', '一', '首', '菊花台']"
      ]
     },
     "execution_count": 10,
     "metadata": {},
     "output_type": "execute_result"
    }
   ],
   "source": [
    "p.words"
   ]
  },
  {
   "cell_type": "code",
   "execution_count": 11,
   "metadata": {},
   "outputs": [
    {
     "name": "stdout",
     "output_type": "stream",
     "text": [
      "词性标注:\n",
      "v\tv\tm\tq\tn\n",
      "命名实体识别:\n",
      "O\tO\tO\tO\tO\n"
     ]
    },
    {
     "data": {
      "text/plain": [
       "[]"
      ]
     },
     "execution_count": 11,
     "metadata": {},
     "output_type": "execute_result"
    }
   ],
   "source": [
    "p.get_location()"
   ]
  },
  {
   "cell_type": "code",
   "execution_count": 12,
   "metadata": {},
   "outputs": [
    {
     "data": {
      "text/plain": [
       "[]"
      ]
     },
     "execution_count": 12,
     "metadata": {},
     "output_type": "execute_result"
    }
   ],
   "source": [
    "p.get_time()"
   ]
  },
  {
   "cell_type": "code",
   "execution_count": 13,
   "metadata": {},
   "outputs": [
    {
     "data": {
      "text/plain": [
       "[]"
      ]
     },
     "execution_count": 13,
     "metadata": {},
     "output_type": "execute_result"
    }
   ],
   "source": [
    "p.get_name()"
   ]
  },
  {
   "cell_type": "code",
   "execution_count": 14,
   "metadata": {},
   "outputs": [
    {
     "data": {
      "text/plain": [
       "['菊花台']"
      ]
     },
     "execution_count": 14,
     "metadata": {},
     "output_type": "execute_result"
    }
   ],
   "source": [
    "p.get_noun()"
   ]
  },
  {
   "cell_type": "code",
   "execution_count": 30,
   "metadata": {
    "collapsed": true
   },
   "outputs": [],
   "source": [
    "from collections import defaultdict"
   ]
  },
  {
   "cell_type": "code",
   "execution_count": 31,
   "metadata": {
    "collapsed": true
   },
   "outputs": [],
   "source": [
    "c = defaultdict(list)"
   ]
  },
  {
   "cell_type": "code",
   "execution_count": 32,
   "metadata": {},
   "outputs": [
    {
     "data": {
      "text/plain": [
       "[]"
      ]
     },
     "execution_count": 32,
     "metadata": {},
     "output_type": "execute_result"
    }
   ],
   "source": [
    "c['some']"
   ]
  },
  {
   "cell_type": "code",
   "execution_count": 36,
   "metadata": {},
   "outputs": [
    {
     "data": {
      "text/plain": [
       "defaultdict(list, {'some': []})"
      ]
     },
     "execution_count": 36,
     "metadata": {},
     "output_type": "execute_result"
    }
   ],
   "source": [
    "c"
   ]
  },
  {
   "cell_type": "code",
   "execution_count": 37,
   "metadata": {
    "collapsed": true
   },
   "outputs": [],
   "source": [
    "c.get('hav')"
   ]
  },
  {
   "cell_type": "code",
   "execution_count": 38,
   "metadata": {},
   "outputs": [
    {
     "data": {
      "text/plain": [
       "[]"
      ]
     },
     "execution_count": 38,
     "metadata": {},
     "output_type": "execute_result"
    }
   ],
   "source": [
    "c['hav']"
   ]
  },
  {
   "cell_type": "code",
   "execution_count": null,
   "metadata": {
    "collapsed": true
   },
   "outputs": [],
   "source": [
    "import requests\n",
    "def WeatherService(location):\n",
    "    url = \"https://www.sojson.com/open/api/weather/json.shtml?city=\" + localtion\n",
    "    res = requests.get(url).json()\n",
    "    if res['status'] == 200:\n",
    "        pass\n",
    "    else:\n",
    "        print(res['message'])"
   ]
  },
  {
   "cell_type": "code",
   "execution_count": 24,
   "metadata": {},
   "outputs": [
    {
     "data": {
      "text/plain": [
       "{'data': {'aqi': '105',\n",
       "  'city': '北京',\n",
       "  'forecast': [{'date': '10日星期一',\n",
       "    'fengli': '<![CDATA[<3级]]>',\n",
       "    'fengxiang': '南风',\n",
       "    'high': '高温 28℃',\n",
       "    'low': '低温 19℃',\n",
       "    'type': '多云'},\n",
       "   {'date': '11日星期二',\n",
       "    'fengli': '<![CDATA[<3级]]>',\n",
       "    'fengxiang': '南风',\n",
       "    'high': '高温 26℃',\n",
       "    'low': '低温 18℃',\n",
       "    'type': '多云'},\n",
       "   {'date': '12日星期三',\n",
       "    'fengli': '<![CDATA[<3级]]>',\n",
       "    'fengxiang': '南风',\n",
       "    'high': '高温 29℃',\n",
       "    'low': '低温 18℃',\n",
       "    'type': '多云'},\n",
       "   {'date': '13日星期四',\n",
       "    'fengli': '<![CDATA[<3级]]>',\n",
       "    'fengxiang': '南风',\n",
       "    'high': '高温 29℃',\n",
       "    'low': '低温 20℃',\n",
       "    'type': '多云'},\n",
       "   {'date': '14日星期五',\n",
       "    'fengli': '<![CDATA[<3级]]>',\n",
       "    'fengxiang': '东北风',\n",
       "    'high': '高温 26℃',\n",
       "    'low': '低温 18℃',\n",
       "    'type': '小雨'}],\n",
       "  'ganmao': '各项气象条件适宜，无明显降温过程，发生感冒机率较低。',\n",
       "  'wendu': '25',\n",
       "  'yesterday': {'date': '9日星期日',\n",
       "   'fl': '<![CDATA[<3级]]>',\n",
       "   'fx': '西南风',\n",
       "   'high': '高温 28℃',\n",
       "   'low': '低温 16℃',\n",
       "   'type': '晴'}},\n",
       " 'desc': 'OK',\n",
       " 'status': 1000}"
      ]
     },
     "execution_count": 24,
     "metadata": {},
     "output_type": "execute_result"
    }
   ],
   "source": [
    "url = \"http://wthrcdn.etouch.cn/weather_mini?city=\" + \"北京\"\n",
    "res = requests.get(url)\n",
    "res.json()"
   ]
  },
  {
   "cell_type": "code",
   "execution_count": 19,
   "metadata": {
    "collapsed": true
   },
   "outputs": [],
   "source": [
    "import requests"
   ]
  },
  {
   "cell_type": "code",
   "execution_count": 16,
   "metadata": {
    "collapsed": true
   },
   "outputs": [],
   "source": [
    "location = \"广州\""
   ]
  },
  {
   "cell_type": "code",
   "execution_count": 20,
   "metadata": {},
   "outputs": [
    {
     "data": {
      "text/plain": [
       "{'city': '广州',\n",
       " 'count': 4,\n",
       " 'data': {'forecast': [{'aqi': 37.0,\n",
       "    'date': '14日星期五',\n",
       "    'fl': '<3级',\n",
       "    'fx': '无持续风向',\n",
       "    'high': '高温 35.0℃',\n",
       "    'low': '低温 26.0℃',\n",
       "    'notice': '阴晴之间，谨防紫外线侵扰',\n",
       "    'sunrise': '06:12',\n",
       "    'sunset': '18:32',\n",
       "    'type': '多云'},\n",
       "   {'aqi': 72.0,\n",
       "    'date': '15日星期六',\n",
       "    'fl': '<3级',\n",
       "    'fx': '无持续风向',\n",
       "    'high': '高温 35.0℃',\n",
       "    'low': '低温 26.0℃',\n",
       "    'notice': '阴晴之间，谨防紫外线侵扰',\n",
       "    'sunrise': '06:13',\n",
       "    'sunset': '18:31',\n",
       "    'type': '多云'},\n",
       "   {'aqi': 35.0,\n",
       "    'date': '16日星期日',\n",
       "    'fl': '6-7级',\n",
       "    'fx': '东风',\n",
       "    'high': '高温 30.0℃',\n",
       "    'low': '低温 25.0℃',\n",
       "    'notice': '记得随身携带雨伞哦',\n",
       "    'sunrise': '06:13',\n",
       "    'sunset': '18:30',\n",
       "    'type': '中雨'},\n",
       "   {'aqi': 54.0,\n",
       "    'date': '17日星期一',\n",
       "    'fl': '3-4级',\n",
       "    'fx': '东风',\n",
       "    'high': '高温 29.0℃',\n",
       "    'low': '低温 25.0℃',\n",
       "    'notice': '记得随身携带雨伞哦',\n",
       "    'sunrise': '06:13',\n",
       "    'sunset': '18:29',\n",
       "    'type': '中雨'},\n",
       "   {'aqi': 45.0,\n",
       "    'date': '18日星期二',\n",
       "    'fl': '<3级',\n",
       "    'fx': '无持续风向',\n",
       "    'high': '高温 31.0℃',\n",
       "    'low': '低温 24.0℃',\n",
       "    'notice': '记得随身携带雨伞哦',\n",
       "    'sunrise': '06:13',\n",
       "    'sunset': '18:28',\n",
       "    'type': '中雨'}],\n",
       "  'ganmao': '各类人群可自由活动',\n",
       "  'pm10': 40.0,\n",
       "  'pm25': 22.0,\n",
       "  'quality': '优',\n",
       "  'shidu': '99%',\n",
       "  'wendu': '23',\n",
       "  'yesterday': {'aqi': 32.0,\n",
       "   'date': '13日星期四',\n",
       "   'fl': '3-4级',\n",
       "   'fx': '东北风',\n",
       "   'high': '高温 32.0℃',\n",
       "   'low': '低温 25.0℃',\n",
       "   'notice': '带好雨具，别在树下躲雨',\n",
       "   'sunrise': '06:12',\n",
       "   'sunset': '18:33',\n",
       "   'type': '雷阵雨'}},\n",
       " 'date': '20180914',\n",
       " 'message': 'Success !',\n",
       " 'status': 200}"
      ]
     },
     "execution_count": 20,
     "metadata": {},
     "output_type": "execute_result"
    }
   ],
   "source": [
    "url = \"https://www.sojson.com/open/api/weather/json.shtml?city=\" + location\n",
    "res = requests.get(url)\n",
    "res.json()"
   ]
  },
  {
   "cell_type": "code",
   "execution_count": 37,
   "metadata": {
    "collapsed": true
   },
   "outputs": [],
   "source": [
    "# http://zhwnlapi.etouch.cn/Ecalender/api/v2/weather?date=20160105&citykey=101010100\n",
    "res = requests.get('http://zhwnlapi.etouch.cn/Ecalender/api/v2/weather?date=20160105&citykey=101010100')"
   ]
  },
  {
   "cell_type": "code",
   "execution_count": 25,
   "metadata": {
    "collapsed": true
   },
   "outputs": [],
   "source": [
    "from datetime import datetime"
   ]
  },
  {
   "cell_type": "code",
   "execution_count": 36,
   "metadata": {},
   "outputs": [],
   "source": [
    "check_date = datetime.today().date().strftime('%Y%m%d')"
   ]
  },
  {
   "cell_type": "code",
   "execution_count": 39,
   "metadata": {},
   "outputs": [],
   "source": [
    "rsp = res.json()"
   ]
  },
  {
   "cell_type": "code",
   "execution_count": 40,
   "metadata": {},
   "outputs": [
    {
     "data": {
      "text/plain": [
       "dict_keys(['indexes', 'meta', 'weatherUrls', 'forecast15', 'forecast', 'hourfc', 'xianhao', 'source', 'evn', 'observe'])"
      ]
     },
     "execution_count": 40,
     "metadata": {},
     "output_type": "execute_result"
    }
   ],
   "source": [
    "rsp.keys()"
   ]
  },
  {
   "cell_type": "code",
   "execution_count": 41,
   "metadata": {
    "collapsed": true
   },
   "outputs": [],
   "source": [
    "forecast = rsp['forecast']"
   ]
  },
  {
   "cell_type": "code",
   "execution_count": 42,
   "metadata": {},
   "outputs": [
    {
     "data": {
      "text/plain": [
       "[{'aqi': 120,\n",
       "  'date': '20180913',\n",
       "  'day': {'bgPic': 'http://static.etouch.cn/imgs/upload/1505371463.3431.jpg',\n",
       "   'notice': '阴晴之间，谨防紫外线侵扰',\n",
       "   'smPic': 'http://static.etouch.cn/imgs/upload/1505284459.5844.jpg',\n",
       "   'type': 2,\n",
       "   'wd': '南风',\n",
       "   'wp': '<3级',\n",
       "   'wthr': '多云'},\n",
       "  'high': 29,\n",
       "  'low': 20,\n",
       "  'night': {'bgPic': 'http://static.etouch.cn/imgs/upload/1505371467.4939.jpg',\n",
       "   'notice': '夜晚多云，愿你梦里有月光',\n",
       "   'smPic': 'http://static.etouch.cn/imgs/upload/1505284464.307.jpg',\n",
       "   'type': 2,\n",
       "   'wd': '南风',\n",
       "   'wp': '<3级',\n",
       "   'wthr': '多云'},\n",
       "  'sunrise': '05:52',\n",
       "  'sunset': '18:28'},\n",
       " {'aqi': 136,\n",
       "  'date': '20180914',\n",
       "  'day': {'bgPic': 'http://static.etouch.cn/imgs/upload/1505371463.3431.jpg',\n",
       "   'notice': '阴晴之间，谨防紫外线侵扰',\n",
       "   'smPic': 'http://static.etouch.cn/imgs/upload/1505284459.5844.jpg',\n",
       "   'type': 2,\n",
       "   'wd': '西南风',\n",
       "   'wp': '<3级',\n",
       "   'wthr': '多云'},\n",
       "  'high': 28,\n",
       "  'low': 19,\n",
       "  'night': {'bgPic': 'http://static.etouch.cn/imgs/upload/1505371467.4939.jpg',\n",
       "   'notice': '夜晚多云，愿你梦里有月光',\n",
       "   'smPic': 'http://static.etouch.cn/imgs/upload/1505284464.307.jpg',\n",
       "   'type': 2,\n",
       "   'wd': '北风',\n",
       "   'wp': '3-4级',\n",
       "   'wthr': '多云'},\n",
       "  'sunrise': '05:53',\n",
       "  'sunset': '18:27'},\n",
       " {'aqi': 50,\n",
       "  'date': '20180915',\n",
       "  'day': {'bgPic': 'http://static.etouch.cn/imgs/upload/1505371463.3431.jpg',\n",
       "   'notice': '阴晴之间，谨防紫外线侵扰',\n",
       "   'smPic': 'http://static.etouch.cn/imgs/upload/1505284459.5844.jpg',\n",
       "   'type': 2,\n",
       "   'wd': '北风',\n",
       "   'wp': '3-4级',\n",
       "   'wthr': '多云'},\n",
       "  'high': 26,\n",
       "  'low': 15,\n",
       "  'night': {'bgPic': 'http://static.etouch.cn/imgs/upload/1505371467.4939.jpg',\n",
       "   'notice': '夜晚多云，愿你梦里有月光',\n",
       "   'smPic': 'http://static.etouch.cn/imgs/upload/1505284464.307.jpg',\n",
       "   'type': 2,\n",
       "   'wd': '北风',\n",
       "   'wp': '<3级',\n",
       "   'wthr': '多云'},\n",
       "  'sunrise': '05:53',\n",
       "  'sunset': '18:25'},\n",
       " {'aqi': 67,\n",
       "  'date': '20180916',\n",
       "  'day': {'bgPic': 'http://static.etouch.cn/imgs/upload/1505371463.3431.jpg',\n",
       "   'notice': '阴晴之间，谨防紫外线侵扰',\n",
       "   'smPic': 'http://static.etouch.cn/imgs/upload/1505284459.5844.jpg',\n",
       "   'type': 2,\n",
       "   'wd': '北风',\n",
       "   'wp': '<3级',\n",
       "   'wthr': '多云'},\n",
       "  'high': 26,\n",
       "  'low': 15,\n",
       "  'night': {'bgPic': 'http://static.etouch.cn/imgs/upload/1505371453.2293.jpg',\n",
       "   'notice': '祝你有个晴朗的梦',\n",
       "   'smPic': 'http://static.etouch.cn/imgs/upload/1505215052.3458.jpg',\n",
       "   'type': 1,\n",
       "   'wd': '北风',\n",
       "   'wp': '<3级',\n",
       "   'wthr': '晴'},\n",
       "  'sunrise': '05:54',\n",
       "  'sunset': '18:23'},\n",
       " {'aqi': 58,\n",
       "  'date': '20180917',\n",
       "  'day': {'bgPic': 'http://static.etouch.cn/imgs/upload/1505371463.3431.jpg',\n",
       "   'notice': '阴晴之间，谨防紫外线侵扰',\n",
       "   'smPic': 'http://static.etouch.cn/imgs/upload/1505284459.5844.jpg',\n",
       "   'type': 2,\n",
       "   'wd': '北风',\n",
       "   'wp': '<3级',\n",
       "   'wthr': '多云'},\n",
       "  'high': 27,\n",
       "  'low': 18,\n",
       "  'night': {'bgPic': 'http://static.etouch.cn/imgs/upload/1505371554.566.jpg',\n",
       "   'notice': '别看雨还小，冒雨要不得',\n",
       "   'smPic': 'http://static.etouch.cn/imgs/upload/1505284577.5363.jpg',\n",
       "   'type': 8,\n",
       "   'wd': '西南风',\n",
       "   'wp': '<3级',\n",
       "   'wthr': '小雨'},\n",
       "  'sunrise': '05:55',\n",
       "  'sunset': '18:22'},\n",
       " {'aqi': 67,\n",
       "  'date': '20180918',\n",
       "  'day': {'bgPic': 'http://static.etouch.cn/imgs/upload/1505371463.3431.jpg',\n",
       "   'notice': '阴晴之间，谨防紫外线侵扰',\n",
       "   'smPic': 'http://static.etouch.cn/imgs/upload/1505284459.5844.jpg',\n",
       "   'type': 2,\n",
       "   'wd': '南风',\n",
       "   'wp': '<3级',\n",
       "   'wthr': '多云'},\n",
       "  'high': 24,\n",
       "  'low': 17,\n",
       "  'night': {'bgPic': 'http://static.etouch.cn/imgs/upload/1505371467.4939.jpg',\n",
       "   'notice': '夜晚多云，愿你梦里有月光',\n",
       "   'smPic': 'http://static.etouch.cn/imgs/upload/1505284464.307.jpg',\n",
       "   'type': 2,\n",
       "   'wd': '南风',\n",
       "   'wp': '<3级',\n",
       "   'wthr': '多云'},\n",
       "  'sunrise': '05:56',\n",
       "  'sunset': '18:20'}]"
      ]
     },
     "execution_count": 42,
     "metadata": {},
     "output_type": "execute_result"
    }
   ],
   "source": [
    "forecast"
   ]
  },
  {
   "cell_type": "code",
   "execution_count": null,
   "metadata": {
    "collapsed": true
   },
   "outputs": [],
   "source": []
  }
 ],
 "metadata": {
  "kernelspec": {
   "display_name": "Python 3",
   "language": "python",
   "name": "python3"
  },
  "language_info": {
   "codemirror_mode": {
    "name": "ipython",
    "version": 3
   },
   "file_extension": ".py",
   "mimetype": "text/x-python",
   "name": "python",
   "nbconvert_exporter": "python",
   "pygments_lexer": "ipython3",
   "version": "3.6.2"
  }
 },
 "nbformat": 4,
 "nbformat_minor": 2
}
