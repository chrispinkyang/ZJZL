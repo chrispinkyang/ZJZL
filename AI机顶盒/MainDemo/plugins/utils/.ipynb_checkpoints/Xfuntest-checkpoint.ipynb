{
 "cells": [
  {
   "cell_type": "code",
   "execution_count": 1,
   "metadata": {
    "collapsed": true
   },
   "outputs": [],
   "source": [
    "import requests\n",
    "import time\n",
    "import hashlib\n",
    "import base64\n",
    "from bitarray import bitarray\n",
    "\n",
    "URL = \"http://openapi.xfyun.cn/v2/aiui\"\n",
    "APPID = \"5b9b70dd\"\n",
    "API_KEY = \"92b69ef855cf4c22acc8caba7c742eca\"\n",
    "AUE = \"raw\"\n",
    "AUTH_ID = \"2894c985bf8b1111c6728db79d3479ae\"\n",
    "DATA_TYPE = \"text\"\n",
    "SAMPLE_RATE = \"16000\"\n",
    "SCENE = \"main\"\n",
    "RESULT_LEVEL = \"complete\"\n",
    "LAT = \"39.938838\"\n",
    "LNG = \"116.368624\"\n",
    "#个性化参数，需转义\n",
    "PERS_PARAM = \"{\\\\\\\"auth_id\\\\\\\":\\\\\\\"2894c985bf8b1111c6728db79d3479ae\\\\\\\"}\"\n",
    "FILE_PATH = \"test.txt\"\n",
    "\n",
    "def str2bitarray(s):\n",
    "    ret = bitarray(''.join([bin(int('1' + hex(c)[2:], 16))[3:] for c in s.encode('utf-8')]))\n",
    "    return ret\n",
    "\n",
    "def buildHeader():\n",
    "    curTime = str(int(time.time()))\n",
    "    param = \"{\\\"result_level\\\":\\\"\"+RESULT_LEVEL+\"\\\",\\\"auth_id\\\":\\\"\"+AUTH_ID+\"\\\",\\\"data_type\\\":\\\"\"+DATA_TYPE+\"\\\",\\\"sample_rate\\\":\\\"\"+SAMPLE_RATE+\"\\\",\\\"scene\\\":\\\"\"+SCENE+\"\\\",\\\"lat\\\":\\\"\"+LAT+\"\\\",\\\"lng\\\":\\\"\"+LNG+\"\\\"}\"\n",
    "    #使用个性化参数时参数格式如下：\n",
    "    #param = \"{\\\"result_level\\\":\\\"\"+RESULT_LEVEL+\"\\\",\\\"auth_id\\\":\\\"\"+AUTH_ID+\"\\\",\\\"data_type\\\":\\\"\"+DATA_TYPE+\"\\\",\\\"sample_rate\\\":\\\"\"+SAMPLE_RATE+\"\\\",\\\"scene\\\":\\\"\"+SCENE+\"\\\",\\\"lat\\\":\\\"\"+LAT+\"\\\",\\\"lng\\\":\\\"\"+LNG+\"\\\",\\\"pers_param\\\":\\\"\"+PERS_PARAM+\"\\\"}\"\n",
    "    # error: a bytes-like object is required, not 'str'\n",
    "    paramBase64 = base64.b64encode(param.encode('utf-8'))\n",
    "\n",
    "    m2 = hashlib.md5()\n",
    "    print\n",
    "    print('type of paramBase64:', type(paramBase64))\n",
    "    print(\"(str(paramBase64, 'utf-8')\", str(paramBase64, 'utf-8'))\n",
    "    m2.update((API_KEY + curTime + str(paramBase64, 'utf-8')).encode('utf-8'))\n",
    "    checkSum = m2.hexdigest()\n",
    "\n",
    "    # 在 Http Request Header 中配置以下参数用于授权认证\n",
    "    header = {\n",
    "        'X-CurTime': curTime,\n",
    "        'X-Param': paramBase64,\n",
    "        'X-Appid': APPID,\n",
    "        'X-CheckSum': checkSum,\n",
    "    }\n",
    "    return header\n",
    "\n",
    "def readFile(filePath):\n",
    "    binfile = open(filePath, 'rb')\n",
    "    data = binfile.read()\n",
    "    print('data in file:', data)\n",
    "    return data"
   ]
  },
  {
   "cell_type": "code",
   "execution_count": 4,
   "metadata": {},
   "outputs": [],
   "source": [
    "content = r.content"
   ]
  },
  {
   "cell_type": "code",
   "execution_count": 8,
   "metadata": {
    "collapsed": true
   },
   "outputs": [],
   "source": [
    "import json"
   ]
  },
  {
   "cell_type": "code",
   "execution_count": 10,
   "metadata": {},
   "outputs": [],
   "source": [
    "json_resp = json.loads(content.decode('utf-8'))"
   ]
  },
  {
   "cell_type": "code",
   "execution_count": 16,
   "metadata": {},
   "outputs": [
    {
     "data": {
      "text/plain": [
       "str"
      ]
     },
     "execution_count": 16,
     "metadata": {},
     "output_type": "execute_result"
    }
   ],
   "source": [
    "type(json_resp['code'])"
   ]
  },
  {
   "cell_type": "code",
   "execution_count": 14,
   "metadata": {},
   "outputs": [
    {
     "data": {
      "text/plain": [
       "[{'auth_id': '2894c985bf8b1111c6728db79d3479ae',\n",
       "  'intent': {'answer': {'text': '北京今天全天阴转多云，气温17℃ ~ 25℃，空气质量优，有西南风微风，温度适宜。'},\n",
       "   'data': {'result': [{'airData': 44,\n",
       "      'airQuality': '优',\n",
       "      'city': '北京',\n",
       "      'date': '2018-09-18',\n",
       "      'dateLong': 1537200000,\n",
       "      'date_for_voice': '今天',\n",
       "      'exp': {'cl': {'expName': '晨练指数',\n",
       "        'level': '较适宜',\n",
       "        'prompt': '早晨气象条件较适宜晨练，但阴天导致树林夜晚释放的二氧化碳气体不易扩散，请避免在林中晨练。'},\n",
       "       'co': {'expName': '舒适度指数',\n",
       "        'level': '舒适',\n",
       "        'prompt': '白天不太热也不太冷，风力不大，相信您在这样的天气条件下，应会感到比较清爽和舒适。'},\n",
       "       'ct': {'expName': '穿衣指数',\n",
       "        'level': '舒适',\n",
       "        'prompt': '建议着长袖T恤、衬衫加单裤等服装。年老体弱者宜着针织长袖衬衫、马甲和长裤。'},\n",
       "       'dy': {'expName': '钓鱼指数',\n",
       "        'level': '较适宜',\n",
       "        'prompt': '较适合垂钓，但阴沉的天气可能会对鱼吃食产生一定的影响。'},\n",
       "       'fs': {'expName': '防晒指数',\n",
       "        'level': '弱',\n",
       "        'prompt': '属弱紫外辐射天气，长期在户外，建议涂擦SPF在8-12之间的防晒护肤品。'},\n",
       "       'gj': {'expName': '逛街指数',\n",
       "        'level': '适宜',\n",
       "        'prompt': '阴天，在这种天气里去逛街，省去了涂防晒霜，打遮阳伞的麻烦，既可放松身心，又会有很多意外收获。'},\n",
       "       'gm': {'expName': '感冒指数',\n",
       "        'level': '少发',\n",
       "        'prompt': '各项气象条件适宜，无明显降温过程，发生感冒机率较低。'},\n",
       "       'tr': {'expName': '旅游指数',\n",
       "        'level': '适宜',\n",
       "        'prompt': '天气较好，温度适宜，总体来说还是好天气哦，这样的天气适宜旅游，您可以尽情地享受大自然的风光。'},\n",
       "       'uv': {'expName': '紫外线强度指数',\n",
       "        'level': '最弱',\n",
       "        'prompt': '属弱紫外线辐射天气，无需特别防护。若长期在户外，建议涂擦SPF在8-12之间的防晒护肤品。'},\n",
       "       'xc': {'expName': '洗车指数',\n",
       "        'level': '较适宜',\n",
       "        'prompt': '较适宜洗车，未来一天无雨，风力较小，擦洗一新的汽车至少能保持一天。'},\n",
       "       'yd': {'expName': '运动指数',\n",
       "        'level': '较适宜',\n",
       "        'prompt': '阴天，较适宜进行各种户内外运动。'}},\n",
       "      'humidity': '36%',\n",
       "      'img': 'http://aiui-res.ufile.ucloud.com.cn/weather/02.png',\n",
       "      'lastUpdateTime': '2018-09-18 08:00',\n",
       "      'pm25': '13',\n",
       "      'temp': 23,\n",
       "      'tempHigh': '25℃',\n",
       "      'tempLow': '17℃',\n",
       "      'tempRange': '17℃ ~ 25℃',\n",
       "      'warning': '',\n",
       "      'weather': '阴转多云',\n",
       "      'weatherDescription': '温度适宜。',\n",
       "      'weatherDescription3': '16℃到29℃，风不大，温度适宜。',\n",
       "      'weatherDescription7': '12℃到29℃，风不大，温度适宜。',\n",
       "      'weatherType': 2,\n",
       "      'week': '周二',\n",
       "      'wind': '西南风微风',\n",
       "      'windLevel': 0},\n",
       "     {'city': '北京',\n",
       "      'date': '2018-09-19',\n",
       "      'dateLong': 1537286400,\n",
       "      'date_for_voice': '明天',\n",
       "      'img': 'http://aiui-res.ufile.ucloud.com.cn/weather/01.png',\n",
       "      'lastUpdateTime': '2018-09-18 08:00',\n",
       "      'tempHigh': '26℃',\n",
       "      'tempLow': '18℃',\n",
       "      'tempRange': '18℃ ~ 26℃',\n",
       "      'weather': '多云',\n",
       "      'weatherDescription': '温度适宜。',\n",
       "      'weatherType': 1,\n",
       "      'week': '周三',\n",
       "      'wind': '东南风微风',\n",
       "      'windLevel': 0},\n",
       "     {'city': '北京',\n",
       "      'date': '2018-09-20',\n",
       "      'dateLong': 1537372800,\n",
       "      'date_for_voice': '后天',\n",
       "      'img': 'http://aiui-res.ufile.ucloud.com.cn/weather/01.png',\n",
       "      'lastUpdateTime': '2018-09-18 08:00',\n",
       "      'tempHigh': '29℃',\n",
       "      'tempLow': '16℃',\n",
       "      'tempRange': '16℃ ~ 29℃',\n",
       "      'weather': '多云',\n",
       "      'weatherDescription': '有点热，适合穿短袖短裙等夏季清凉衣物。',\n",
       "      'weatherType': 1,\n",
       "      'week': '周四',\n",
       "      'wind': '西南风微风',\n",
       "      'windLevel': 0},\n",
       "     {'city': '北京',\n",
       "      'date': '2018-09-21',\n",
       "      'dateLong': 1537459200,\n",
       "      'date_for_voice': '21号',\n",
       "      'img': 'http://aiui-res.ufile.ucloud.com.cn/weather/00.png',\n",
       "      'lastUpdateTime': '2018-09-18 08:00',\n",
       "      'tempHigh': '23℃',\n",
       "      'tempLow': '12℃',\n",
       "      'tempRange': '12℃ ~ 23℃',\n",
       "      'weather': '晴',\n",
       "      'weatherDescription': '温度适宜。',\n",
       "      'weatherType': 0,\n",
       "      'week': '周五',\n",
       "      'wind': '西北风4-5级',\n",
       "      'windLevel': 2},\n",
       "     {'city': '北京',\n",
       "      'date': '2018-09-22',\n",
       "      'dateLong': 1537545600,\n",
       "      'date_for_voice': '22号',\n",
       "      'img': 'http://aiui-res.ufile.ucloud.com.cn/weather/00.png',\n",
       "      'lastUpdateTime': '2018-09-18 08:00',\n",
       "      'tempHigh': '23℃',\n",
       "      'tempLow': '14℃',\n",
       "      'tempRange': '14℃ ~ 23℃',\n",
       "      'weather': '晴',\n",
       "      'weatherDescription': '温度适宜。',\n",
       "      'weatherType': 0,\n",
       "      'week': '周六',\n",
       "      'wind': '北风3-4级',\n",
       "      'windLevel': 1},\n",
       "     {'city': '北京',\n",
       "      'date': '2018-09-23',\n",
       "      'dateLong': 1537632000,\n",
       "      'date_for_voice': '23号',\n",
       "      'img': 'http://aiui-res.ufile.ucloud.com.cn/weather/00.png',\n",
       "      'lastUpdateTime': '2018-09-18 08:00',\n",
       "      'tempHigh': '23℃',\n",
       "      'tempLow': '13℃',\n",
       "      'tempRange': '13℃ ~ 23℃',\n",
       "      'weather': '晴',\n",
       "      'weatherDescription': '温度适宜。',\n",
       "      'weatherType': 0,\n",
       "      'week': '周日',\n",
       "      'wind': '北风微风',\n",
       "      'windLevel': 0},\n",
       "     {'city': '北京',\n",
       "      'date': '2018-09-24',\n",
       "      'dateLong': 1537718400,\n",
       "      'date_for_voice': '24号',\n",
       "      'img': 'http://aiui-res.ufile.ucloud.com.cn/weather/00.png',\n",
       "      'lastUpdateTime': '2018-09-18 08:00',\n",
       "      'tempHigh': '24℃',\n",
       "      'tempLow': '14℃',\n",
       "      'tempRange': '14℃ ~ 24℃',\n",
       "      'weather': '晴',\n",
       "      'weatherDescription': '温度适宜。',\n",
       "      'weatherType': 0,\n",
       "      'week': '下周一',\n",
       "      'wind': '西南风3-4级',\n",
       "      'windLevel': 1}]},\n",
       "   'dialog_stat': 'DataValid',\n",
       "   'rc': 0,\n",
       "   'save_history': True,\n",
       "   'semantic': [{'intent': 'QUERY',\n",
       "     'slots': [{'name': 'datetime',\n",
       "       'normValue': '{\"datetime\":\"2018-09-18\",\"suggestDatetime\":\"2018-09-18\"}',\n",
       "       'value': '今天'},\n",
       "      {'name': 'location.city', 'normValue': '北京市', 'value': '北京市'},\n",
       "      {'name': 'location.cityAddr', 'normValue': '北京', 'value': '北京'},\n",
       "      {'name': 'location.type',\n",
       "       'normValue': 'LOC_BASIC',\n",
       "       'value': 'LOC_BASIC'},\n",
       "      {'name': 'queryType', 'value': '内容'},\n",
       "      {'name': 'subfocus', 'value': '天气状态'}]}],\n",
       "   'service': 'weather',\n",
       "   'sid': 'atn02379607@dx00070efbbb62a10e01',\n",
       "   'state': {'fg::weather::default::default': {'state': 'default'}},\n",
       "   'text': '北京今天的天气',\n",
       "   'uuid': 'atn02379607@dx00070efbbb62a10e01'},\n",
       "  'result_id': 1,\n",
       "  'sub': 'nlp'}]"
      ]
     },
     "execution_count": 14,
     "metadata": {},
     "output_type": "execute_result"
    }
   ],
   "source": [
    "json_resp['data']"
   ]
  },
  {
   "cell_type": "code",
   "execution_count": null,
   "metadata": {
    "collapsed": true
   },
   "outputs": [],
   "source": [
    "def CovertWeatherResponse(data):\n",
    "    '''\n",
    "    Receive: a response.content from AIUI WEB API\n",
    "    Return: A json object\n",
    "    '''\n",
    "    json_resp = json.loads(content.decode('utf-8'))\n",
    "    res = {\n",
    "        res = {\n",
    "    status: 0,\n",
    "    msg: 'success'\n",
    "    result: \n",
    "    {\n",
    "        SpeechTexts:'' #智能管家响应语音文本\n",
    "        service:'Weather'# 定义操作对象\n",
    "        intent:<string> #用户意图:地区+日期\n",
    "        data:#数组,以天为单位,返回一周内天气\n",
    "        [\n",
    "            {\n",
    "                \"city\": \"北京\",\n",
    "                \"date\": \"2018-09-16\",\n",
    "                \"date_for_voice\": \"17号\",#\"今天\"/\"明天\"/\"后天\"/x号\n",
    "                \"img\": ,#气象图url\n",
    "                \"lastUpdateTime\": \"2018-09-12 11:00\",\n",
    "                \"tempHigh\": \"26℃\",\n",
    "                \"tempLow\": \"15℃\",\n",
    "                \"tempRange\": \"15℃ ~ 26℃\",\n",
    "                \"weather\": \"多云\",\n",
    "                \"weatherDescription\": \"温度适宜。\",\n",
    "                \"weatherType\": 1,\n",
    "                \"week\": \"周日\",\n",
    "                \"wind\": \"北风微风\",\n",
    "                \"windLevel\": 0\n",
    "            }\n",
    "        ]\n",
    "    }\n",
    "}\n",
    "    }"
   ]
  },
  {
   "cell_type": "markdown",
   "metadata": {},
   "source": [
    "\t{\n",
    "\tstatus: <int> #成功为0,失败为1\n",
    "\tmsg: <string> #成功为'success', 失败为<错误信息>\n",
    "\tresult: \n",
    "\t\t{\n",
    "\t\tSpeechTexts:'' #智能管家响应语音文本\n",
    "\t\tservice:'Weather'# 定义操作对象\n",
    "\t\tintent:<string> #用户意图:地区+日期\n",
    "\t\tdata:#数组,以天为单位,返回一周内天气\n",
    "\t\t\t[\n",
    "\t\t\t{\n",
    "\t\t\t\"city\": \"北京\",\n",
    "\t\t\t\"date\": \"2018-09-16\",\n",
    "\t\t\t\"date_for_voice\": \"17号\",#\"今天\"/\"明天\"/\"后天\"/x号\n",
    "\t\t\t\"img\": ,#气象图url\n",
    "\t\t\t\"lastUpdateTime\": \"2018-09-12 11:00\",\n",
    "\t\t\t\"tempHigh\": \"26℃\",\n",
    "\t\t\t\"tempLow\": \"15℃\",\n",
    "\t\t\t\"tempRange\": \"15℃ ~ 26℃\",\n",
    "\t\t\t\"weather\": \"多云\",\n",
    "\t\t\t\"weatherDescription\": \"温度适宜。\",\n",
    "\t\t\t\"weatherType\": 1,\n",
    "\t\t\t\"week\": \"周日\",\n",
    "\t\t\t\"wind\": \"北风微风\",\n",
    "\t\t\t\"windLevel\": 0\n",
    "\t\t\t}\n",
    "\t\t\t]\n",
    "\t\t}\n",
    "\t}"
   ]
  },
  {
   "cell_type": "code",
   "execution_count": null,
   "metadata": {
    "collapsed": true
   },
   "outputs": [],
   "source": [
    "res = {\n",
    "    status: 0,\n",
    "    msg: 'success'\n",
    "    result: \n",
    "    {\n",
    "        SpeechTexts:'' #智能管家响应语音文本\n",
    "        service:'Weather'# 定义操作对象\n",
    "        intent:<string> #用户意图:地区+日期\n",
    "        data:#数组,以天为单位,返回一周内天气\n",
    "        [\n",
    "            {\n",
    "                \"city\": \"北京\",\n",
    "                \"date\": \"2018-09-16\",\n",
    "                \"date_for_voice\": \"17号\",#\"今天\"/\"明天\"/\"后天\"/x号\n",
    "                \"img\": ,#气象图url\n",
    "                \"lastUpdateTime\": \"2018-09-12 11:00\",\n",
    "                \"tempHigh\": \"26℃\",\n",
    "                \"tempLow\": \"15℃\",\n",
    "                \"tempRange\": \"15℃ ~ 26℃\",\n",
    "                \"weather\": \"多云\",\n",
    "                \"weatherDescription\": \"温度适宜。\",\n",
    "                \"weatherType\": 1,\n",
    "                \"week\": \"周日\",\n",
    "                \"wind\": \"北风微风\",\n",
    "                \"windLevel\": 0\n",
    "            }\n",
    "        ]\n",
    "    }\n",
    "}"
   ]
  },
  {
   "cell_type": "code",
   "execution_count": 23,
   "metadata": {},
   "outputs": [],
   "source": [
    "def request2Aiui(text):\n",
    "    bintext = str.encode(text)\n",
    "    r = requests.post(URL, headers=buildHeader(), data=bintext)\n",
    "    # if you need to post data in file\n",
    "    # r = requests.post(URL, headers=buildHeader(), data=readFile(FILE_PATH))\n",
    "    content = r.content\n",
    "    json_resp = json.loads(content.decode('utf-8'))\n",
    "    code = json_resp['code']\n",
    "    if code == '0':\n",
    "        print('success in response')\n",
    "        # return the response['data']\n",
    "        # one query in one request\n",
    "        return json_resp['data'][0]\n",
    "    else:\n",
    "        # error response\n",
    "        '''\n",
    "        {\n",
    "        \"code\":\"10105\",\n",
    "        \"desc\":\"illegal access|illegal client_ip\",\n",
    "        \"data\":[],\n",
    "        \"sid\":\"xxxxxx\"\n",
    "        }\n",
    "        '''\n",
    "        print(json_resp)\n",
    "        print(content)"
   ]
  },
  {
   "cell_type": "code",
   "execution_count": 24,
   "metadata": {},
   "outputs": [
    {
     "name": "stdout",
     "output_type": "stream",
     "text": [
      "type of paramBase64: <class 'bytes'>\n",
      "(str(paramBase64, 'utf-8') eyJyZXN1bHRfbGV2ZWwiOiJjb21wbGV0ZSIsImF1dGhfaWQiOiIyODk0Yzk4NWJmOGIxMTExYzY3MjhkYjc5ZDM0NzlhZSIsImRhdGFfdHlwZSI6InRleHQiLCJzYW1wbGVfcmF0ZSI6IjE2MDAwIiwic2NlbmUiOiJtYWluIiwibGF0IjoiMzkuOTM4ODM4IiwibG5nIjoiMTE2LjM2ODYyNCJ9\n",
      "success in response\n",
      "<class 'dict'>\n"
     ]
    }
   ],
   "source": [
    "test_text = u'北京今天的天气怎么样'\n",
    "resp = request2Aiui(test_text)\n",
    "print(type(resp))"
   ]
  },
  {
   "cell_type": "code",
   "execution_count": 56,
   "metadata": {
    "scrolled": true
   },
   "outputs": [
    {
     "data": {
      "text/plain": [
       "dict_keys(['sub', 'auth_id', 'intent', 'result_id'])"
      ]
     },
     "execution_count": 56,
     "metadata": {},
     "output_type": "execute_result"
    }
   ],
   "source": [
    "resp.keys()"
   ]
  },
  {
   "cell_type": "code",
   "execution_count": 57,
   "metadata": {
    "collapsed": true
   },
   "outputs": [],
   "source": [
    "intent = resp['intent']"
   ]
  },
  {
   "cell_type": "code",
   "execution_count": 58,
   "metadata": {},
   "outputs": [
    {
     "data": {
      "text/plain": [
       "dict_keys(['answer', 'data', 'dialog_stat', 'rc', 'save_history', 'semantic', 'service', 'sid', 'state', 'text', 'uuid'])"
      ]
     },
     "execution_count": 58,
     "metadata": {},
     "output_type": "execute_result"
    }
   ],
   "source": [
    "intent.keys()"
   ]
  },
  {
   "cell_type": "code",
   "execution_count": 59,
   "metadata": {},
   "outputs": [
    {
     "data": {
      "text/plain": [
       "'weather'"
      ]
     },
     "execution_count": 59,
     "metadata": {},
     "output_type": "execute_result"
    }
   ],
   "source": [
    "intent['service']"
   ]
  },
  {
   "cell_type": "code",
   "execution_count": 20,
   "metadata": {
    "collapsed": true
   },
   "outputs": [],
   "source": [
    "a = resp[0]"
   ]
  },
  {
   "cell_type": "code",
   "execution_count": 21,
   "metadata": {},
   "outputs": [
    {
     "data": {
      "text/plain": [
       "dict"
      ]
     },
     "execution_count": 21,
     "metadata": {},
     "output_type": "execute_result"
    }
   ],
   "source": [
    "type(a)"
   ]
  },
  {
   "cell_type": "code",
   "execution_count": 44,
   "metadata": {},
   "outputs": [
    {
     "data": {
      "text/plain": [
       "dict_keys(['sub', 'auth_id', 'intent', 'result_id'])"
      ]
     },
     "execution_count": 44,
     "metadata": {},
     "output_type": "execute_result"
    }
   ],
   "source": [
    "a.keys()"
   ]
  },
  {
   "cell_type": "code",
   "execution_count": 25,
   "metadata": {},
   "outputs": [],
   "source": [
    "intent = a['intent']"
   ]
  },
  {
   "cell_type": "code",
   "execution_count": 26,
   "metadata": {},
   "outputs": [
    {
     "data": {
      "text/plain": [
       "dict_keys(['answer', 'data', 'dialog_stat', 'rc', 'save_history', 'semantic', 'service', 'sid', 'state', 'text', 'uuid'])"
      ]
     },
     "execution_count": 26,
     "metadata": {},
     "output_type": "execute_result"
    }
   ],
   "source": [
    "intent.keys()"
   ]
  },
  {
   "cell_type": "code",
   "execution_count": 31,
   "metadata": {},
   "outputs": [
    {
     "data": {
      "text/plain": [
       "'北京今天全天阴转多云，气温17℃ ~ 25℃，空气质量优，有西南风微风，温度适宜。'"
      ]
     },
     "execution_count": 31,
     "metadata": {},
     "output_type": "execute_result"
    }
   ],
   "source": [
    "intent['answer']['text']"
   ]
  },
  {
   "cell_type": "code",
   "execution_count": 32,
   "metadata": {},
   "outputs": [
    {
     "data": {
      "text/plain": [
       "dict"
      ]
     },
     "execution_count": 32,
     "metadata": {},
     "output_type": "execute_result"
    }
   ],
   "source": [
    "type(intent['data'])"
   ]
  },
  {
   "cell_type": "code",
   "execution_count": 33,
   "metadata": {
    "collapsed": true
   },
   "outputs": [],
   "source": [
    "data = intent['data']"
   ]
  },
  {
   "cell_type": "code",
   "execution_count": 34,
   "metadata": {},
   "outputs": [
    {
     "data": {
      "text/plain": [
       "dict_keys(['result'])"
      ]
     },
     "execution_count": 34,
     "metadata": {},
     "output_type": "execute_result"
    }
   ],
   "source": [
    "data.keys()"
   ]
  },
  {
   "cell_type": "code",
   "execution_count": 36,
   "metadata": {},
   "outputs": [
    {
     "data": {
      "text/plain": [
       "list"
      ]
     },
     "execution_count": 36,
     "metadata": {},
     "output_type": "execute_result"
    }
   ],
   "source": [
    "type(data['result'])"
   ]
  },
  {
   "cell_type": "code",
   "execution_count": 38,
   "metadata": {},
   "outputs": [
    {
     "data": {
      "text/plain": [
       "dict_keys(['airData', 'airQuality', 'city', 'date', 'dateLong', 'date_for_voice', 'exp', 'humidity', 'img', 'lastUpdateTime', 'pm25', 'temp', 'tempHigh', 'tempLow', 'tempRange', 'warning', 'weather', 'weatherDescription', 'weatherDescription3', 'weatherDescription7', 'weatherType', 'week', 'wind', 'windLevel'])"
      ]
     },
     "execution_count": 38,
     "metadata": {},
     "output_type": "execute_result"
    }
   ],
   "source": [
    "data['result'][0].keys()"
   ]
  },
  {
   "cell_type": "code",
   "execution_count": 39,
   "metadata": {
    "collapsed": true
   },
   "outputs": [],
   "source": [
    "one = data['result'][0]"
   ]
  },
  {
   "cell_type": "code",
   "execution_count": 40,
   "metadata": {},
   "outputs": [
    {
     "data": {
      "text/plain": [
       "'温度适宜。'"
      ]
     },
     "execution_count": 40,
     "metadata": {},
     "output_type": "execute_result"
    }
   ],
   "source": [
    "one['weatherDescription']"
   ]
  },
  {
   "cell_type": "code",
   "execution_count": 41,
   "metadata": {},
   "outputs": [
    {
     "data": {
      "text/plain": [
       "'16℃到29℃，风不大，温度适宜。'"
      ]
     },
     "execution_count": 41,
     "metadata": {},
     "output_type": "execute_result"
    }
   ],
   "source": [
    "one['weatherDescription3']"
   ]
  },
  {
   "cell_type": "code",
   "execution_count": 42,
   "metadata": {},
   "outputs": [
    {
     "data": {
      "text/plain": [
       "'12℃到29℃，风不大，温度适宜。'"
      ]
     },
     "execution_count": 42,
     "metadata": {},
     "output_type": "execute_result"
    }
   ],
   "source": [
    "one['weatherDescription7']"
   ]
  },
  {
   "cell_type": "code",
   "execution_count": 43,
   "metadata": {},
   "outputs": [
    {
     "data": {
      "text/plain": [
       "{'airData': 45,\n",
       " 'airQuality': '优',\n",
       " 'city': '北京',\n",
       " 'date': '2018-09-18',\n",
       " 'dateLong': 1537200000,\n",
       " 'date_for_voice': '今天',\n",
       " 'exp': {'cl': {'expName': '晨练指数',\n",
       "   'level': '较适宜',\n",
       "   'prompt': '早晨气象条件较适宜晨练，但阴天导致树林夜晚释放的二氧化碳气体不易扩散，请避免在林中晨练。'},\n",
       "  'co': {'expName': '舒适度指数',\n",
       "   'level': '舒适',\n",
       "   'prompt': '白天不太热也不太冷，风力不大，相信您在这样的天气条件下，应会感到比较清爽和舒适。'},\n",
       "  'ct': {'expName': '穿衣指数',\n",
       "   'level': '舒适',\n",
       "   'prompt': '建议着长袖T恤、衬衫加单裤等服装。年老体弱者宜着针织长袖衬衫、马甲和长裤。'},\n",
       "  'dy': {'expName': '钓鱼指数',\n",
       "   'level': '较适宜',\n",
       "   'prompt': '较适合垂钓，但阴沉的天气可能会对鱼吃食产生一定的影响。'},\n",
       "  'fs': {'expName': '防晒指数',\n",
       "   'level': '弱',\n",
       "   'prompt': '属弱紫外辐射天气，长期在户外，建议涂擦SPF在8-12之间的防晒护肤品。'},\n",
       "  'gj': {'expName': '逛街指数',\n",
       "   'level': '适宜',\n",
       "   'prompt': '阴天，在这种天气里去逛街，省去了涂防晒霜，打遮阳伞的麻烦，既可放松身心，又会有很多意外收获。'},\n",
       "  'gm': {'expName': '感冒指数',\n",
       "   'level': '较易发',\n",
       "   'prompt': '天气转凉，空气湿度较大，较易发生感冒，体质较弱的朋友请注意适当防护。'},\n",
       "  'tr': {'expName': '旅游指数',\n",
       "   'level': '适宜',\n",
       "   'prompt': '天气较好，温度适宜，总体来说还是好天气哦，这样的天气适宜旅游，您可以尽情地享受大自然的风光。'},\n",
       "  'uv': {'expName': '紫外线强度指数',\n",
       "   'level': '最弱',\n",
       "   'prompt': '属弱紫外线辐射天气，无需特别防护。若长期在户外，建议涂擦SPF在8-12之间的防晒护肤品。'},\n",
       "  'xc': {'expName': '洗车指数',\n",
       "   'level': '较适宜',\n",
       "   'prompt': '较适宜洗车，未来一天无雨，风力较小，擦洗一新的汽车至少能保持一天。'},\n",
       "  'yd': {'expName': '运动指数', 'level': '较适宜', 'prompt': '阴天，较适宜进行各种户内外运动。'}},\n",
       " 'humidity': '32%',\n",
       " 'img': 'http://aiui-res.ufile.ucloud.com.cn/weather/02.png',\n",
       " 'lastUpdateTime': '2018-09-18 11:00',\n",
       " 'pm25': '13',\n",
       " 'temp': 24,\n",
       " 'tempHigh': '25℃',\n",
       " 'tempLow': '17℃',\n",
       " 'tempRange': '17℃ ~ 25℃',\n",
       " 'warning': '',\n",
       " 'weather': '阴转多云',\n",
       " 'weatherDescription': '温度适宜。',\n",
       " 'weatherDescription3': '16℃到29℃，风不大，温度适宜。',\n",
       " 'weatherDescription7': '12℃到29℃，风不大，温度适宜。',\n",
       " 'weatherType': 2,\n",
       " 'week': '周二',\n",
       " 'wind': '西南风微风',\n",
       " 'windLevel': 0}"
      ]
     },
     "execution_count": 43,
     "metadata": {},
     "output_type": "execute_result"
    }
   ],
   "source": [
    "one"
   ]
  },
  {
   "cell_type": "code",
   "execution_count": 52,
   "metadata": {},
   "outputs": [],
   "source": [
    "def get_result(json_data):\n",
    "    intent = json_data['intent']\n",
    "    res = {\n",
    "        'SpeechTexts': intent['answer']['text'],\n",
    "        'Service': 'weather',\n",
    "        'intent': 'query'\n",
    "        }\n",
    "    result_list = intent['data']['result']\n",
    "    data = []\n",
    "    for result in result_list:\n",
    "        each = dict()\n",
    "        each = {\n",
    "        \"city\": result['city'],\n",
    "        \"date\": result['date'],\n",
    "        \"date_for_voice\": ['date_for_voice'],#\"今天\"/\"明天\"/\"后天\"/x号\n",
    "        \"img\": result['img'],#气象图url\n",
    "        \"lastUpdateTime\": result['lastUpdateTime'],\n",
    "        \"tempHigh\": result['tempHigh'],\n",
    "        \"tempLow\": result['tempLow'],\n",
    "        \"tempRange\": result['tempRange'],\n",
    "        \"weather\": result['weather'],\n",
    "        \"weatherDescription\": result['weatherDescription'],\n",
    "        \"weatherType\": result['weatherType'],\n",
    "        \"week\": result['week'],\n",
    "        \"wind\": result['wind'],\n",
    "        \"windLevel\": result['windLevel']\n",
    "        }\n",
    "        data.append(each)\n",
    "    res['data'] = data\n",
    "    return res"
   ]
  },
  {
   "cell_type": "code",
   "execution_count": 53,
   "metadata": {},
   "outputs": [],
   "source": [
    "try_json = get_result(resp)"
   ]
  },
  {
   "cell_type": "code",
   "execution_count": 54,
   "metadata": {},
   "outputs": [
    {
     "data": {
      "text/plain": [
       "{'Service': 'weather',\n",
       " 'SpeechTexts': '今天北京全天阴转多云，气温17℃ ~ 25℃，空气质量优，有西南风微风，温度适宜。',\n",
       " 'data': [{'city': '北京',\n",
       "   'date': '2018-09-18',\n",
       "   'date_for_voice': ['date_for_voice'],\n",
       "   'img': 'http://aiui-res.ufile.ucloud.com.cn/weather/02.png',\n",
       "   'lastUpdateTime': '2018-09-18 11:00',\n",
       "   'tempHigh': '25℃',\n",
       "   'tempLow': '17℃',\n",
       "   'tempRange': '17℃ ~ 25℃',\n",
       "   'weather': '阴转多云',\n",
       "   'weatherDescription': '温度适宜。',\n",
       "   'weatherType': 2,\n",
       "   'week': '周二',\n",
       "   'wind': '西南风微风',\n",
       "   'windLevel': 0},\n",
       "  {'city': '北京',\n",
       "   'date': '2018-09-19',\n",
       "   'date_for_voice': ['date_for_voice'],\n",
       "   'img': 'http://aiui-res.ufile.ucloud.com.cn/weather/01.png',\n",
       "   'lastUpdateTime': '2018-09-18 11:00',\n",
       "   'tempHigh': '26℃',\n",
       "   'tempLow': '18℃',\n",
       "   'tempRange': '18℃ ~ 26℃',\n",
       "   'weather': '多云',\n",
       "   'weatherDescription': '温度适宜。',\n",
       "   'weatherType': 1,\n",
       "   'week': '周三',\n",
       "   'wind': '东南风微风',\n",
       "   'windLevel': 0},\n",
       "  {'city': '北京',\n",
       "   'date': '2018-09-20',\n",
       "   'date_for_voice': ['date_for_voice'],\n",
       "   'img': 'http://aiui-res.ufile.ucloud.com.cn/weather/01.png',\n",
       "   'lastUpdateTime': '2018-09-18 11:00',\n",
       "   'tempHigh': '29℃',\n",
       "   'tempLow': '16℃',\n",
       "   'tempRange': '16℃ ~ 29℃',\n",
       "   'weather': '多云',\n",
       "   'weatherDescription': '有点热，适合穿短袖短裙等夏季清凉衣物。',\n",
       "   'weatherType': 1,\n",
       "   'week': '周四',\n",
       "   'wind': '西南风微风',\n",
       "   'windLevel': 0},\n",
       "  {'city': '北京',\n",
       "   'date': '2018-09-21',\n",
       "   'date_for_voice': ['date_for_voice'],\n",
       "   'img': 'http://aiui-res.ufile.ucloud.com.cn/weather/00.png',\n",
       "   'lastUpdateTime': '2018-09-18 11:00',\n",
       "   'tempHigh': '24℃',\n",
       "   'tempLow': '14℃',\n",
       "   'tempRange': '14℃ ~ 24℃',\n",
       "   'weather': '晴',\n",
       "   'weatherDescription': '温度适宜。',\n",
       "   'weatherType': 0,\n",
       "   'week': '周五',\n",
       "   'wind': '西北风4-5级',\n",
       "   'windLevel': 2},\n",
       "  {'city': '北京',\n",
       "   'date': '2018-09-22',\n",
       "   'date_for_voice': ['date_for_voice'],\n",
       "   'img': 'http://aiui-res.ufile.ucloud.com.cn/weather/00.png',\n",
       "   'lastUpdateTime': '2018-09-18 11:00',\n",
       "   'tempHigh': '23℃',\n",
       "   'tempLow': '14℃',\n",
       "   'tempRange': '14℃ ~ 23℃',\n",
       "   'weather': '晴',\n",
       "   'weatherDescription': '温度适宜。',\n",
       "   'weatherType': 0,\n",
       "   'week': '周六',\n",
       "   'wind': '西北风3-4级',\n",
       "   'windLevel': 1},\n",
       "  {'city': '北京',\n",
       "   'date': '2018-09-23',\n",
       "   'date_for_voice': ['date_for_voice'],\n",
       "   'img': 'http://aiui-res.ufile.ucloud.com.cn/weather/00.png',\n",
       "   'lastUpdateTime': '2018-09-18 11:00',\n",
       "   'tempHigh': '23℃',\n",
       "   'tempLow': '12℃',\n",
       "   'tempRange': '12℃ ~ 23℃',\n",
       "   'weather': '晴',\n",
       "   'weatherDescription': '温度适宜。',\n",
       "   'weatherType': 0,\n",
       "   'week': '周日',\n",
       "   'wind': '北风3-4级',\n",
       "   'windLevel': 1},\n",
       "  {'city': '北京',\n",
       "   'date': '2018-09-24',\n",
       "   'date_for_voice': ['date_for_voice'],\n",
       "   'img': 'http://aiui-res.ufile.ucloud.com.cn/weather/00.png',\n",
       "   'lastUpdateTime': '2018-09-18 11:00',\n",
       "   'tempHigh': '23℃',\n",
       "   'tempLow': '13℃',\n",
       "   'tempRange': '13℃ ~ 23℃',\n",
       "   'weather': '晴',\n",
       "   'weatherDescription': '温度适宜。',\n",
       "   'weatherType': 0,\n",
       "   'week': '下周一',\n",
       "   'wind': '南风微风',\n",
       "   'windLevel': 0}],\n",
       " 'intent': 'query'}"
      ]
     },
     "execution_count": 54,
     "metadata": {},
     "output_type": "execute_result"
    }
   ],
   "source": [
    "try_json"
   ]
  },
  {
   "cell_type": "code",
   "execution_count": null,
   "metadata": {
    "collapsed": true
   },
   "outputs": [],
   "source": []
  }
 ],
 "metadata": {
  "kernelspec": {
   "display_name": "Python 3",
   "language": "python",
   "name": "python3"
  },
  "language_info": {
   "codemirror_mode": {
    "name": "ipython",
    "version": 3
   },
   "file_extension": ".py",
   "mimetype": "text/x-python",
   "name": "python",
   "nbconvert_exporter": "python",
   "pygments_lexer": "ipython3",
   "version": "3.6.2"
  }
 },
 "nbformat": 4,
 "nbformat_minor": 2
}
